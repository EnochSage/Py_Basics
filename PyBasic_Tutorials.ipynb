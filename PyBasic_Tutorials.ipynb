{
 "cells": [
  {
   "cell_type": "markdown",
   "id": "fb7916b1",
   "metadata": {
    "heading_collapsed": true
   },
   "source": [
    "# Python Programming Basics Tutorials"
   ]
  },
  {
   "cell_type": "markdown",
   "id": "d99824c4",
   "metadata": {
    "hidden": true
   },
   "source": [
    "**Part.1**"
   ]
  },
  {
   "cell_type": "code",
   "execution_count": 1,
   "id": "3ee1c73a",
   "metadata": {
    "hidden": true
   },
   "outputs": [],
   "source": [
    "import numpy as np\n",
    "import matplotlib.pyplot as plt\n",
    "import pandas as pd\n",
    "import seaborn as sns\n",
    "import statsmodels as sm"
   ]
  },
  {
   "cell_type": "raw",
   "id": "51378589",
   "metadata": {
    "hidden": true
   },
   "source": [
    "Assignment is also referred to as binding, as we are binding a name\n",
    "to an object. Variable names that have been assigned may occasion‐\n",
    "ally be referred to as bound variables."
   ]
  },
  {
   "cell_type": "code",
   "execution_count": 2,
   "id": "296a4026",
   "metadata": {
    "hidden": true
   },
   "outputs": [],
   "source": [
    "data = {i : np.random.randn() for i in range(10)}"
   ]
  },
  {
   "cell_type": "code",
   "execution_count": 3,
   "id": "e4585e73",
   "metadata": {
    "hidden": true
   },
   "outputs": [
    {
     "data": {
      "text/plain": [
       "{0: 0.435906553435265,\n",
       " 1: 1.3010893710228966,\n",
       " 2: -1.004444962468699,\n",
       " 3: -0.2303326690953246,\n",
       " 4: -0.3605008442514476,\n",
       " 5: -0.7715485807238268,\n",
       " 6: 1.9584591332511505,\n",
       " 7: -0.8447780267390136,\n",
       " 8: 0.762617204673864,\n",
       " 9: 1.1275459424205772}"
      ]
     },
     "execution_count": 3,
     "metadata": {},
     "output_type": "execute_result"
    }
   ],
   "source": [
    "data"
   ]
  },
  {
   "cell_type": "code",
   "execution_count": 4,
   "id": "4927b742",
   "metadata": {
    "hidden": true
   },
   "outputs": [
    {
     "name": "stdout",
     "output_type": "stream",
     "text": [
      "{0: 0.435906553435265, 1: 1.3010893710228966, 2: -1.004444962468699, 3: -0.2303326690953246, 4: -0.3605008442514476, 5: -0.7715485807238268, 6: 1.9584591332511505, 7: -0.8447780267390136, 8: 0.762617204673864, 9: 1.1275459424205772}\n"
     ]
    }
   ],
   "source": [
    "print(data)"
   ]
  },
  {
   "cell_type": "code",
   "execution_count": 5,
   "id": "de9b75b1",
   "metadata": {
    "hidden": true
   },
   "outputs": [],
   "source": [
    " import datetime"
   ]
  },
  {
   "cell_type": "code",
   "execution_count": 6,
   "id": "673159c4",
   "metadata": {
    "hidden": true
   },
   "outputs": [
    {
     "data": {
      "text/plain": [
       "<module 'datetime' from 'C:\\\\Users\\\\esnun\\\\anaconda3\\\\envs\\\\Env_3_6\\\\lib\\\\datetime.py'>"
      ]
     },
     "execution_count": 6,
     "metadata": {},
     "output_type": "execute_result"
    }
   ],
   "source": [
    "datetime"
   ]
  },
  {
   "cell_type": "markdown",
   "id": "1bfbe232",
   "metadata": {
    "hidden": true
   },
   "source": [
    "**Part.2**"
   ]
  },
  {
   "cell_type": "code",
   "execution_count": 7,
   "id": "27762fe6",
   "metadata": {
    "hidden": true
   },
   "outputs": [
    {
     "data": {
      "text/plain": [
       "15"
      ]
     },
     "execution_count": 7,
     "metadata": {},
     "output_type": "execute_result"
    }
   ],
   "source": [
    "def f(a, b): #adding_numbers\n",
    "    return a + b\n",
    "\n",
    "#Add two numbers together\n",
    "#Returns the_sum : type of arguments\n",
    "a=7\n",
    "b=8\n",
    "result= f(a, b)\n",
    "result"
   ]
  },
  {
   "cell_type": "code",
   "execution_count": 8,
   "id": "998dea86",
   "metadata": {
    "hidden": true
   },
   "outputs": [],
   "source": [
    "def f(x, y, z):\n",
    "    return (x + y) / z\n",
    "a = 5\n",
    "b = 6\n",
    "c = 7.5\n",
    "result = f(a, b, c)"
   ]
  },
  {
   "cell_type": "code",
   "execution_count": 9,
   "id": "b7723e9c",
   "metadata": {
    "hidden": true
   },
   "outputs": [
    {
     "data": {
      "text/plain": [
       "1.4666666666666666"
      ]
     },
     "execution_count": 9,
     "metadata": {},
     "output_type": "execute_result"
    }
   ],
   "source": [
    "f(a, b, c)"
   ]
  },
  {
   "cell_type": "code",
   "execution_count": 10,
   "id": "b7cffdaf",
   "metadata": {
    "hidden": true
   },
   "outputs": [
    {
     "data": {
      "text/plain": [
       "1.4666666666666666"
      ]
     },
     "execution_count": 10,
     "metadata": {},
     "output_type": "execute_result"
    }
   ],
   "source": [
    "result"
   ]
  },
  {
   "cell_type": "markdown",
   "id": "65839e1e",
   "metadata": {
    "hidden": true
   },
   "source": [
    "**Part 3**"
   ]
  },
  {
   "cell_type": "code",
   "execution_count": 11,
   "id": "1071315a",
   "metadata": {
    "hidden": true
   },
   "outputs": [],
   "source": [
    "a = np.random.randn(100, 100)"
   ]
  },
  {
   "cell_type": "code",
   "execution_count": 12,
   "id": "fecda4ea",
   "metadata": {
    "hidden": true
   },
   "outputs": [
    {
     "data": {
      "text/plain": [
       "array([[ 2.11549532,  1.58806695,  1.22604587, ...,  1.23582782,\n",
       "        -0.54411553,  0.07755836],\n",
       "       [-0.53363701, -0.02202829,  0.55114391, ...,  1.07755239,\n",
       "         1.19059859,  1.50296715],\n",
       "       [-0.85476619,  0.47459653,  0.31383632, ...,  1.23581574,\n",
       "        -0.85691717, -0.24256491],\n",
       "       ...,\n",
       "       [-0.20204118, -1.03876253,  0.43504037, ...,  0.91980284,\n",
       "         0.12028492, -0.86270921],\n",
       "       [-1.07260214, -0.0641062 , -0.26235402, ...,  1.77465845,\n",
       "        -1.42715853, -0.39352204],\n",
       "       [ 0.59270435, -0.1246188 , -0.2791935 , ..., -0.20733812,\n",
       "        -1.56822746, -1.16017096]])"
      ]
     },
     "execution_count": 12,
     "metadata": {},
     "output_type": "execute_result"
    }
   ],
   "source": [
    "a"
   ]
  },
  {
   "cell_type": "raw",
   "id": "3db85532",
   "metadata": {
    "hidden": true
   },
   "source": [
    "NB: You can check the execution\n",
    "time of any Python statement, \n",
    "such as a matrix multiplication, \n",
    "using the %timeit magic function"
   ]
  },
  {
   "cell_type": "code",
   "execution_count": 13,
   "id": "1ee20e93",
   "metadata": {
    "hidden": true
   },
   "outputs": [
    {
     "name": "stdout",
     "output_type": "stream",
     "text": [
      "166 µs ± 7.27 µs per loop (mean ± std. dev. of 7 runs, 10000 loops each)\n"
     ]
    }
   ],
   "source": [
    "%timeit np.dot(a, a) "
   ]
  },
  {
   "cell_type": "markdown",
   "id": "cb12f4f9",
   "metadata": {
    "hidden": true
   },
   "source": [
    "**Part_4**: <br><br>matplotlib"
   ]
  },
  {
   "cell_type": "code",
   "execution_count": 14,
   "id": "b2ce4dcc",
   "metadata": {
    "hidden": true
   },
   "outputs": [
    {
     "data": {
      "text/plain": [
       "[<matplotlib.lines.Line2D at 0x221ffcabb70>]"
      ]
     },
     "execution_count": 14,
     "metadata": {},
     "output_type": "execute_result"
    },
    {
     "data": {
      "image/png": "[encoded data removed]",
      "text/plain": [
       "<Figure size 432x288 with 1 Axes>"
      ]
     },
     "metadata": {
      "needs_background": "light"
     },
     "output_type": "display_data"
    }
   ],
   "source": [
    "import matplotlib.pyplot as plt\n",
    "plt.plot(np.random.randn(100).cumsum())\n",
    "\n",
    "#%matplotlib inline"
   ]
  },
  {
   "cell_type": "markdown",
   "id": "28643dab",
   "metadata": {
    "heading_collapsed": true
   },
   "source": [
    "# Append"
   ]
  },
  {
   "cell_type": "code",
   "execution_count": 15,
   "id": "a1cd0c50",
   "metadata": {
    "hidden": true
   },
   "outputs": [
    {
     "data": {
      "text/plain": [
       "[1, 2, 3, 4]"
      ]
     },
     "execution_count": 15,
     "metadata": {},
     "output_type": "execute_result"
    }
   ],
   "source": [
    "def append_element(some_list, element):\n",
    "    some_list.append(element)\n",
    "data = [1, 2, 3]\n",
    "\n",
    "append_element(data, 4)\n",
    "data"
   ]
  },
  {
   "cell_type": "markdown",
   "id": "49b356cd",
   "metadata": {
    "heading_collapsed": true
   },
   "source": [
    "# Dynamic references"
   ]
  },
  {
   "cell_type": "raw",
   "id": "2589722c",
   "metadata": {
    "hidden": true
   },
   "source": [
    "In contrast with many compiled languages, such as\n",
    "Java and C++, object references in\n",
    "Python have no type associated with them."
   ]
  },
  {
   "cell_type": "raw",
   "id": "a76df8ac",
   "metadata": {
    "hidden": true
   },
   "source": [
    "Variables are names for objects within a particular \n",
    "namespace; the type information is\n",
    "stored in the object itself. "
   ]
  },
  {
   "cell_type": "code",
   "execution_count": 16,
   "id": "73b1d8aa",
   "metadata": {
    "hidden": true
   },
   "outputs": [
    {
     "data": {
      "text/plain": [
       "int"
      ]
     },
     "execution_count": 16,
     "metadata": {},
     "output_type": "execute_result"
    }
   ],
   "source": [
    "a = 5\n",
    "type(a)"
   ]
  },
  {
   "cell_type": "code",
   "execution_count": 17,
   "id": "d8752f62",
   "metadata": {
    "hidden": true
   },
   "outputs": [
    {
     "data": {
      "text/plain": [
       "str"
      ]
     },
     "execution_count": 17,
     "metadata": {},
     "output_type": "execute_result"
    }
   ],
   "source": [
    "a = 'foo'\n",
    "type(a)"
   ]
  },
  {
   "cell_type": "code",
   "execution_count": 18,
   "id": "daf0c776",
   "metadata": {
    "hidden": true
   },
   "outputs": [
    {
     "ename": "TypeError",
     "evalue": "must be str, not int",
     "output_type": "error",
     "traceback": [
      "\u001b[1;31m---------------------------------------------------------------------------\u001b[0m",
      "\u001b[1;31mTypeError\u001b[0m                                 Traceback (most recent call last)",
      "\u001b[1;32m<ipython-input-18-e91ec85d40ce>\u001b[0m in \u001b[0;36m<module>\u001b[1;34m\u001b[0m\n\u001b[1;32m----> 1\u001b[1;33m \u001b[1;34m'5'\u001b[0m \u001b[1;33m+\u001b[0m \u001b[1;36m5\u001b[0m \u001b[1;31m#this are diff types and thus cannot be added\u001b[0m\u001b[1;33m\u001b[0m\u001b[1;33m\u001b[0m\u001b[0m\n\u001b[0m\u001b[0;32m      2\u001b[0m \u001b[1;31m# String formatting, to be visited later\u001b[0m\u001b[1;33m\u001b[0m\u001b[1;33m\u001b[0m\u001b[1;33m\u001b[0m\u001b[0m\n",
      "\u001b[1;31mTypeError\u001b[0m: must be str, not int"
     ]
    }
   ],
   "source": [
    " '5' + 5 #this are diff types and thus cannot be added\n",
    "# String formatting, to be visited later"
   ]
  },
  {
   "cell_type": "code",
   "execution_count": 20,
   "id": "26e1f889",
   "metadata": {
    "hidden": true
   },
   "outputs": [
    {
     "name": "stdout",
     "output_type": "stream",
     "text": [
      "a is <class 'float'>, b is <class 'int'>\n"
     ]
    },
    {
     "data": {
      "text/plain": [
       "2.25"
      ]
     },
     "execution_count": 20,
     "metadata": {},
     "output_type": "execute_result"
    }
   ],
   "source": [
    "a = 4.5\n",
    "b = 2\n",
    "\n",
    "print('a is {0}, b is {1}'.format(type(a), type(b)))\n",
    "\n",
    "a / b"
   ]
  },
  {
   "cell_type": "code",
   "execution_count": null,
   "id": "a7ba8d09",
   "metadata": {
    "hidden": true
   },
   "outputs": [],
   "source": [
    "a = 4.5\n",
    "b = 2\n",
    "print(type(a)), print(type(b))\n",
    "print('\\n')\n",
    "print(a / b)\n",
    "\n"
   ]
  },
  {
   "cell_type": "code",
   "execution_count": 19,
   "id": "ea063188",
   "metadata": {
    "hidden": true
   },
   "outputs": [
    {
     "data": {
      "text/plain": [
       "(5, int)"
      ]
     },
     "execution_count": 19,
     "metadata": {},
     "output_type": "execute_result"
    }
   ],
   "source": [
    "a = 5\n",
    "(a, int)"
   ]
  },
  {
   "cell_type": "raw",
   "id": "e8d7b605",
   "metadata": {
    "hidden": true
   },
   "source": [
    "isinstance can accept a tuple of types if you want to check that an object’s type is\n",
    "among those present in the tuple:"
   ]
  },
  {
   "cell_type": "code",
   "execution_count": 21,
   "id": "86d60049",
   "metadata": {
    "hidden": true
   },
   "outputs": [
    {
     "data": {
      "text/plain": [
       "True"
      ]
     },
     "execution_count": 21,
     "metadata": {},
     "output_type": "execute_result"
    }
   ],
   "source": [
    "a = 5; b = 4.5\n",
    "isinstance(a, (int, float))\n",
    "\n",
    "isinstance(b, (int, float))"
   ]
  },
  {
   "cell_type": "code",
   "execution_count": 22,
   "id": "1e2391ad",
   "metadata": {
    "hidden": true
   },
   "outputs": [
    {
     "data": {
      "text/plain": [
       "<function str.capitalize>"
      ]
     },
     "execution_count": 22,
     "metadata": {},
     "output_type": "execute_result"
    }
   ],
   "source": [
    "a = 'foo'\n",
    "a.capitalize"
   ]
  },
  {
   "cell_type": "raw",
   "id": "24e517b1",
   "metadata": {
    "hidden": true
   },
   "source": [
    "Concatenating and combining lists"
   ]
  },
  {
   "cell_type": "code",
   "execution_count": 23,
   "id": "5c0fc874",
   "metadata": {
    "hidden": true
   },
   "outputs": [
    {
     "data": {
      "text/plain": [
       "[4, None, 'foo', 7, 8, (2, 3)]"
      ]
     },
     "execution_count": 23,
     "metadata": {},
     "output_type": "execute_result"
    }
   ],
   "source": [
    "x = [4, None, 'foo']\n",
    "x.extend([7, 8, (2, 3)])\n",
    "x"
   ]
  },
  {
   "cell_type": "raw",
   "id": "e24e30b0",
   "metadata": {
    "hidden": true
   },
   "source": [
    "everything = []\n",
    "for chunk in list_of_lists:\n",
    "    everything.extend(chunk)"
   ]
  },
  {
   "cell_type": "raw",
   "id": "81001859",
   "metadata": {
    "hidden": true
   },
   "source": [
    "everything = []\n",
    "for chunk in list_of_lists:\n",
    "    everything = everything + chunk"
   ]
  },
  {
   "cell_type": "code",
   "execution_count": 24,
   "id": "0304c11b",
   "metadata": {
    "hidden": true
   },
   "outputs": [
    {
     "data": {
      "text/plain": [
       "4"
      ]
     },
     "execution_count": 24,
     "metadata": {},
     "output_type": "execute_result"
    }
   ],
   "source": [
    "import bisect\n",
    "c = [1, 2, 2, 2, 3, 4, 7]\n",
    "\n",
    "bisect.bisect(c, 2)"
   ]
  },
  {
   "cell_type": "code",
   "execution_count": 25,
   "id": "2f17f76c",
   "metadata": {
    "hidden": true
   },
   "outputs": [
    {
     "data": {
      "text/plain": [
       "6"
      ]
     },
     "execution_count": 25,
     "metadata": {},
     "output_type": "execute_result"
    }
   ],
   "source": [
    "bisect.bisect(c, 5)"
   ]
  },
  {
   "cell_type": "code",
   "execution_count": 26,
   "id": "6e218c2e",
   "metadata": {
    "hidden": true
   },
   "outputs": [
    {
     "data": {
      "text/plain": [
       "[1, 2, 2, 2, 3, 4, 6, 7]"
      ]
     },
     "execution_count": 26,
     "metadata": {},
     "output_type": "execute_result"
    }
   ],
   "source": [
    "bisect.insort(c, 6)\n",
    "c"
   ]
  },
  {
   "cell_type": "raw",
   "id": "d838651b",
   "metadata": {
    "hidden": true
   },
   "source": [
    "Slicing\n",
    "You can select sections of most sequence types by using slice notation, which in its\n",
    "basic form consists of start:stop passed to the indexing operator []:"
   ]
  },
  {
   "cell_type": "code",
   "execution_count": 27,
   "id": "9f35eacf",
   "metadata": {
    "hidden": true
   },
   "outputs": [
    {
     "data": {
      "text/plain": [
       "[7, 2, 3, 6, 3, 5, 6, 0, 1]"
      ]
     },
     "execution_count": 27,
     "metadata": {},
     "output_type": "execute_result"
    }
   ],
   "source": [
    "seq = [7, 2, 3, 7, 5, 6, 0, 1]\n",
    "seq[1:5]\n",
    "[2, 3, 7, 5]\n",
    "#Slices can also be assigned to with a sequence:\n",
    "seq[3:4] = [6, 3]\n",
    "seq\n"
   ]
  },
  {
   "cell_type": "raw",
   "id": "0d31d8d8",
   "metadata": {
    "hidden": true
   },
   "source": [
    "enumerate\n",
    "It’s common when iterating over a sequence to want to keep track of the index of the\n",
    "current item. A do-it-yourself approach would look like:\n",
    "\n",
    "i = 0\n",
    "for value in collection:\n",
    "# do something with value\n",
    "i += 1\n",
    "\n",
    "Since this is so common, Python has a built-in function, enumerate, which returns a\n",
    "sequence of (i, value) tuples:\n",
    "\n",
    "for i, value in enumerate(collection):\n",
    "# do something with value\n",
    "\n",
    "When you are indexing data, a helpful pattern that uses enumerate is computing a\n",
    "dict mapping the values of a sequence (which are assumed to be unique) to their\n",
    "locations in the sequence:\n",
    "\n",
    "some_list = ['foo', 'bar', 'baz']\n",
    "mapping = {}\n",
    "for i, v in enumerate(some_list):\n",
    "....: mapping[v] = i\n",
    "mapping\n",
    "Out[86]: {'bar': 1, 'baz': 2, 'foo': 0}"
   ]
  },
  {
   "cell_type": "code",
   "execution_count": 2,
   "id": "b85c15ef",
   "metadata": {
    "hidden": true
   },
   "outputs": [
    {
     "data": {
      "text/plain": [
       "{'foo': 0, 'bar': 1, 'baz': 2}"
      ]
     },
     "execution_count": 2,
     "metadata": {},
     "output_type": "execute_result"
    }
   ],
   "source": [
    "some_list = ['foo', 'bar', 'baz']\n",
    "mapping = {}\n",
    "for i, v in enumerate(some_list):\n",
    "    mapping[v] = i\n",
    "mapping"
   ]
  },
  {
   "cell_type": "markdown",
   "id": "91174dc2",
   "metadata": {
    "heading_collapsed": true
   },
   "source": [
    "# ZIP"
   ]
  },
  {
   "cell_type": "raw",
   "id": "fb561d8c",
   "metadata": {
    "hidden": true
   },
   "source": [
    "zip\n",
    "zip “pairs” up the elements of a number of lists, tuples, or other sequences to create a\n",
    "list of tuples:\n",
    "seq1 = ['foo', 'bar', 'baz']\n",
    "seq2 = ['one', 'two', 'three']\n",
    "zipped = zip(seq1, seq2)\n",
    "list(zipped)\n",
    "\n",
    "Out[92]: [('foo', 'one'), ('bar', 'two'), ('baz', 'three')]\n",
    "\n",
    "zip can take an arbitrary number of sequences, and the number of elements it pro‐\n",
    "duces is determined by the shortest sequence:\n",
    "seq3 = [False, True]\n",
    "list(zip(seq1, seq2, seq3))\n",
    "\n",
    "Out[94]: [('foo', 'one', False), ('bar', 'two', True)]\n",
    "\n",
    "A very common use of zip is simultaneously iterating over multiple sequences, possi‐\n",
    "bly also combined with enumerate:\n",
    "\n",
    "for i, (a, b) in enumerate(zip(seq1, seq2)):\n",
    "....: print('{0}: {1}, {2}'.format(i, a, b))\n",
    "....:\n",
    "\n",
    "0: foo, one\n",
    "1: bar, two\n",
    "2: baz, three"
   ]
  },
  {
   "cell_type": "code",
   "execution_count": 3,
   "id": "2f65a3bd",
   "metadata": {
    "hidden": true
   },
   "outputs": [
    {
     "data": {
      "text/plain": [
       "[('foo', 'one'), ('bar', 'two'), ('baz', 'three')]"
      ]
     },
     "execution_count": 3,
     "metadata": {},
     "output_type": "execute_result"
    }
   ],
   "source": [
    "seq1 = ['foo', 'bar', 'baz']\n",
    "seq2 = ['one', 'two', 'three']\n",
    "zipped = zip(seq1, seq2)\n",
    "list(zipped)\n"
   ]
  },
  {
   "cell_type": "code",
   "execution_count": 4,
   "id": "c7d1c4f7",
   "metadata": {
    "hidden": true
   },
   "outputs": [
    {
     "data": {
      "text/plain": [
       "[('foo', 'one', False), ('bar', 'two', True)]"
      ]
     },
     "execution_count": 4,
     "metadata": {},
     "output_type": "execute_result"
    }
   ],
   "source": [
    "seq3 = [False, True]\n",
    "list(zip(seq1, seq2, seq3))"
   ]
  },
  {
   "cell_type": "code",
   "execution_count": 5,
   "id": "bded068e",
   "metadata": {
    "hidden": true
   },
   "outputs": [
    {
     "name": "stdout",
     "output_type": "stream",
     "text": [
      "0: foo, one\n",
      "1: bar, two\n",
      "2: baz, three\n"
     ]
    }
   ],
   "source": [
    "for i, (a, b) in enumerate(zip(seq1, seq2)):\n",
    "    print('{0}: {1}, {2}'.format(i, a, b))"
   ]
  },
  {
   "cell_type": "raw",
   "id": "e522f8fc",
   "metadata": {
    "hidden": true
   },
   "source": [
    "Given a “zipped” sequence, zip can be applied in a clever way to “unzip” the\n",
    "sequence. Another way to think about this is converting a list of rows into a list of\n",
    "columns. The syntax, which looks a bit magical, is:\n",
    "    \n",
    "pitchers = [('Nolan', 'Ryan'), ('Roger', 'Clemens'),\n",
    "....: ('Schilling', 'Curt')]\n",
    "\n",
    "first_names, last_names = zip(*pitchers)\n",
    "first_names\n",
    "\n",
    "Out: ('Nolan', 'Roger', 'Schilling')\n",
    "\n",
    "last_names\n",
    "\n",
    "Out[99]: ('Ryan', 'Clemens', 'Curt')"
   ]
  },
  {
   "cell_type": "code",
   "execution_count": 6,
   "id": "ee4fe86a",
   "metadata": {
    "hidden": true
   },
   "outputs": [
    {
     "data": {
      "text/plain": [
       "('Nolan', 'Roger', 'Schilling')"
      ]
     },
     "execution_count": 6,
     "metadata": {},
     "output_type": "execute_result"
    }
   ],
   "source": [
    "pitchers = [('Nolan', 'Ryan'), ('Roger', 'Clemens'),\n",
    "            ('Schilling', 'Curt')]\n",
    "\n",
    "first_names, last_names = zip(*pitchers)\n",
    "first_names"
   ]
  },
  {
   "cell_type": "code",
   "execution_count": 7,
   "id": "b4bb6db6",
   "metadata": {
    "hidden": true
   },
   "outputs": [
    {
     "data": {
      "text/plain": [
       "('Ryan', 'Clemens', 'Curt')"
      ]
     },
     "execution_count": 7,
     "metadata": {},
     "output_type": "execute_result"
    }
   ],
   "source": [
    "last_names"
   ]
  },
  {
   "cell_type": "raw",
   "id": "9f430e66",
   "metadata": {
    "hidden": true
   },
   "source": [
    "reversed\n",
    "reversed iterates over the elements of a sequence in reverse order:\n",
    "list(reversed(range(10)))\n",
    "\n",
    "Out[100]: [9, 8, 7, 6, 5, 4, 3, 2, 1, 0]"
   ]
  },
  {
   "cell_type": "code",
   "execution_count": 10,
   "id": "e0c91676",
   "metadata": {
    "hidden": true
   },
   "outputs": [
    {
     "data": {
      "text/plain": [
       "[0, 1, 2, 3, 4, 5, 6, 7, 8, 9]"
      ]
     },
     "execution_count": 10,
     "metadata": {},
     "output_type": "execute_result"
    }
   ],
   "source": [
    "list(range(10))"
   ]
  },
  {
   "cell_type": "code",
   "execution_count": 11,
   "id": "f4997cc8",
   "metadata": {
    "hidden": true
   },
   "outputs": [
    {
     "data": {
      "text/plain": [
       "[9, 8, 7, 6, 5, 4, 3, 2, 1, 0]"
      ]
     },
     "execution_count": 11,
     "metadata": {},
     "output_type": "execute_result"
    }
   ],
   "source": [
    "list(reversed(range(10)))"
   ]
  },
  {
   "cell_type": "markdown",
   "id": "6d25c6a9",
   "metadata": {
    "heading_collapsed": true
   },
   "source": [
    "# Dictionary "
   ]
  },
  {
   "cell_type": "raw",
   "id": "bf050509",
   "metadata": {
    "hidden": true
   },
   "source": [
    "dict is likely the most important built-in Python data structure. A more common\n",
    "name for it is hash map or associative array. It is a flexibly sized collection of key-value\n",
    "pairs, where key and value are Python objects. One approach for creating one is to use\n",
    "curly braces {} and colons to separate keys and values:"
   ]
  },
  {
   "cell_type": "code",
   "execution_count": 12,
   "id": "b5f86b56",
   "metadata": {
    "hidden": true
   },
   "outputs": [
    {
     "data": {
      "text/plain": [
       "{'a': 'some value', 'b': [1, 2, 3, 4]}"
      ]
     },
     "execution_count": 12,
     "metadata": {},
     "output_type": "execute_result"
    }
   ],
   "source": [
    "empty_dict = {}\n",
    "d1 = {'a' : 'some value', 'b' : [1, 2, 3, 4]}\n",
    "d1"
   ]
  },
  {
   "cell_type": "code",
   "execution_count": 15,
   "id": "05a55823",
   "metadata": {
    "hidden": true
   },
   "outputs": [
    {
     "data": {
      "text/plain": [
       "{'a': 'some value', 'b': [1, 2, 3, 4], 7: 'an integer'}"
      ]
     },
     "execution_count": 15,
     "metadata": {},
     "output_type": "execute_result"
    }
   ],
   "source": [
    "#You can access, insert, or set elements using the same syntax as for accessing elements of a list or tuple:\n",
    "d1[7] = 'an integer'\n",
    "d1"
   ]
  },
  {
   "cell_type": "code",
   "execution_count": 17,
   "id": "7ec7966d",
   "metadata": {
    "hidden": true
   },
   "outputs": [
    {
     "data": {
      "text/plain": [
       "{'a': 'some value', 'b': [1, 2, 3, 4], 7: 'an integer'}"
      ]
     },
     "execution_count": 17,
     "metadata": {},
     "output_type": "execute_result"
    }
   ],
   "source": [
    "d1"
   ]
  },
  {
   "cell_type": "code",
   "execution_count": 18,
   "id": "1a4590e0",
   "metadata": {
    "hidden": true
   },
   "outputs": [
    {
     "data": {
      "text/plain": [
       "[1, 2, 3, 4]"
      ]
     },
     "execution_count": 18,
     "metadata": {},
     "output_type": "execute_result"
    }
   ],
   "source": [
    "d1['b']"
   ]
  },
  {
   "cell_type": "code",
   "execution_count": 19,
   "id": "ab66c6b9",
   "metadata": {
    "hidden": true
   },
   "outputs": [
    {
     "data": {
      "text/plain": [
       "True"
      ]
     },
     "execution_count": 19,
     "metadata": {},
     "output_type": "execute_result"
    }
   ],
   "source": [
    "'b' in d1"
   ]
  },
  {
   "cell_type": "code",
   "execution_count": null,
   "id": "a202d75a",
   "metadata": {
    "hidden": true
   },
   "outputs": [],
   "source": [
    "You can delete values either using the del keyword or the pop method (which simul‐\n",
    "taneously returns the value and deletes the key):"
   ]
  },
  {
   "cell_type": "code",
   "execution_count": 20,
   "id": "4489305a",
   "metadata": {
    "hidden": true
   },
   "outputs": [
    {
     "data": {
      "text/plain": [
       "{'a': 'some value', 'b': [1, 2, 3, 4], 7: 'an integer', 5: 'some value'}"
      ]
     },
     "execution_count": 20,
     "metadata": {},
     "output_type": "execute_result"
    }
   ],
   "source": [
    "d1[5] = 'some value'\n",
    "d1"
   ]
  },
  {
   "cell_type": "code",
   "execution_count": 21,
   "id": "333d8e83",
   "metadata": {
    "hidden": true
   },
   "outputs": [
    {
     "data": {
      "text/plain": [
       "{'a': 'some value',\n",
       " 'b': [1, 2, 3, 4],\n",
       " 7: 'an integer',\n",
       " 5: 'some value',\n",
       " 'dummy': 'another value'}"
      ]
     },
     "execution_count": 21,
     "metadata": {},
     "output_type": "execute_result"
    }
   ],
   "source": [
    "d1['dummy'] = 'another value'\n",
    "d1"
   ]
  },
  {
   "cell_type": "code",
   "execution_count": 22,
   "id": "f4c15541",
   "metadata": {
    "hidden": true
   },
   "outputs": [
    {
     "data": {
      "text/plain": [
       "{'a': 'some value',\n",
       " 'b': [1, 2, 3, 4],\n",
       " 7: 'an integer',\n",
       " 'dummy': 'another value'}"
      ]
     },
     "execution_count": 22,
     "metadata": {},
     "output_type": "execute_result"
    }
   ],
   "source": [
    "del d1[5]\n",
    "d1"
   ]
  },
  {
   "cell_type": "code",
   "execution_count": 23,
   "id": "5ae4ea9b",
   "metadata": {
    "hidden": true
   },
   "outputs": [
    {
     "data": {
      "text/plain": [
       "'another value'"
      ]
     },
     "execution_count": 23,
     "metadata": {},
     "output_type": "execute_result"
    }
   ],
   "source": [
    "ret = d1.pop('dummy')\n",
    "ret"
   ]
  },
  {
   "cell_type": "code",
   "execution_count": 24,
   "id": "083e07c4",
   "metadata": {
    "hidden": true
   },
   "outputs": [
    {
     "data": {
      "text/plain": [
       "{'a': 'some value', 'b': [1, 2, 3, 4], 7: 'an integer'}"
      ]
     },
     "execution_count": 24,
     "metadata": {},
     "output_type": "execute_result"
    }
   ],
   "source": [
    "d1"
   ]
  },
  {
   "cell_type": "code",
   "execution_count": 25,
   "id": "25e1b19b",
   "metadata": {
    "hidden": true
   },
   "outputs": [
    {
     "data": {
      "text/plain": [
       "['a', 'b', 7]"
      ]
     },
     "execution_count": 25,
     "metadata": {},
     "output_type": "execute_result"
    }
   ],
   "source": [
    "list(d1.keys())"
   ]
  },
  {
   "cell_type": "code",
   "execution_count": 26,
   "id": "25425b0e",
   "metadata": {
    "hidden": true
   },
   "outputs": [
    {
     "data": {
      "text/plain": [
       "['some value', [1, 2, 3, 4], 'an integer']"
      ]
     },
     "execution_count": 26,
     "metadata": {},
     "output_type": "execute_result"
    }
   ],
   "source": [
    "list(d1.values())"
   ]
  },
  {
   "cell_type": "code",
   "execution_count": 27,
   "id": "bd02e003",
   "metadata": {
    "hidden": true
   },
   "outputs": [
    {
     "data": {
      "text/plain": [
       "{'a': 'some value', 'b': 'foo', 7: 'an integer', 'c': 12}"
      ]
     },
     "execution_count": 27,
     "metadata": {},
     "output_type": "execute_result"
    }
   ],
   "source": [
    "#You can merge one dict into another using the update method:\n",
    "d1.update({'b' : 'foo', 'c' : 12})\n",
    "d1"
   ]
  },
  {
   "cell_type": "markdown",
   "id": "522cf977",
   "metadata": {
    "hidden": true
   },
   "source": [
    "The update method changes dicts in-place, <br>so any existing keys in the data passed to\n",
    "<br>update will have their old values discarded."
   ]
  },
  {
   "cell_type": "markdown",
   "id": "da2e7897",
   "metadata": {
    "hidden": true
   },
   "source": [
    "**Creating dicts from sequences**"
   ]
  },
  {
   "cell_type": "raw",
   "id": "78d7fe9b",
   "metadata": {
    "hidden": true
   },
   "source": [
    "It’s common to occasionally end up with two sequences that you want to pair up\n",
    "element-wise in a dict. As a first cut, you might write code like this:\n",
    "\n",
    "mapping = {}\n",
    "for key, value in zip(key_list, value_list):\n",
    "    mapping[key] = value"
   ]
  },
  {
   "cell_type": "code",
   "execution_count": 31,
   "id": "0b71d3ea",
   "metadata": {
    "hidden": true
   },
   "outputs": [
    {
     "data": {
      "text/plain": [
       "{0: 4, 1: 3, 2: 2, 3: 1, 4: 0}"
      ]
     },
     "execution_count": 31,
     "metadata": {},
     "output_type": "execute_result"
    }
   ],
   "source": [
    "mapping = dict(zip(range(5), reversed(range(5))))\n",
    "mapping"
   ]
  },
  {
   "cell_type": "raw",
   "id": "fe0fb102",
   "metadata": {
    "hidden": true
   },
   "source": [
    "Default values\n",
    "It’s very common to have logic like:\n",
    "    \n",
    "if key in some_dict:\n",
    "    value = some_dict[key]\n",
    "else:\n",
    "    value = default_value\n",
    "    \n",
    "Thus, the dict methods get and pop can take a default value to be returned, \n",
    "so that the above if-else block can be written simply as:\n",
    "\n",
    "    value = some_dict.get(key, default_value)\n",
    "    \n",
    "Get by default will return None if the key is not \n",
    "present,while pop will raise an exception. "
   ]
  },
  {
   "cell_type": "raw",
   "id": "cfa75c2e",
   "metadata": {
    "hidden": true
   },
   "source": [
    "For example, you could imagine categorizing a list of words by their\n",
    "first letters as a dict of lists:"
   ]
  },
  {
   "cell_type": "markdown",
   "id": "9dc586e9",
   "metadata": {
    "hidden": true
   },
   "source": [
    "**Categorizing a list of words by their<br>\n",
    "first letters as a dict of lists**"
   ]
  },
  {
   "cell_type": "code",
   "execution_count": 32,
   "id": "e202e752",
   "metadata": {
    "hidden": true
   },
   "outputs": [
    {
     "data": {
      "text/plain": [
       "{'a': ['apple', 'atom'], 'b': ['bat', 'bar', 'book']}"
      ]
     },
     "execution_count": 32,
     "metadata": {},
     "output_type": "execute_result"
    }
   ],
   "source": [
    "words = ['apple', 'bat', 'bar', 'atom', 'book']\n",
    "by_letter = {}\n",
    "\n",
    "for word in words:\n",
    "    letter = word[0]\n",
    "    if letter not in by_letter:\n",
    "        by_letter[letter] = [word]\n",
    "    else:\n",
    "        by_letter[letter].append(word)\n",
    "        \n",
    "by_letter"
   ]
  },
  {
   "cell_type": "raw",
   "id": "d19d4a1e",
   "metadata": {
    "hidden": true
   },
   "source": [
    "The setdefault dict method is for precisely \n",
    "this purpose. The preceding for loop\n",
    "can be rewritten as:"
   ]
  },
  {
   "cell_type": "code",
   "execution_count": 33,
   "id": "9802bb09",
   "metadata": {
    "hidden": true
   },
   "outputs": [],
   "source": [
    "for word in words:\n",
    "    letter = word[0]\n",
    "    by_letter.setdefault(letter, []).append(word)"
   ]
  },
  {
   "cell_type": "raw",
   "id": "e5fbc3b0",
   "metadata": {
    "hidden": true
   },
   "source": [
    "The built-in collections module has a useful class, \n",
    "defaultdict, which makes thiseven easier. \n",
    "To create one, you pass a type or function \n",
    "for generating the default value"
   ]
  },
  {
   "cell_type": "code",
   "execution_count": 34,
   "id": "d109b69d",
   "metadata": {
    "hidden": true
   },
   "outputs": [],
   "source": [
    "#for each slot in the dict:\n",
    "\n",
    "from collections import defaultdict\n",
    "by_letter = defaultdict(list)\n",
    "    \n",
    "for word in words:\n",
    "    by_letter[word[0]].append(word)"
   ]
  },
  {
   "cell_type": "markdown",
   "id": "f0aae005",
   "metadata": {
    "hidden": true
   },
   "source": [
    "**Using a list as a dictionary key**"
   ]
  },
  {
   "cell_type": "raw",
   "id": "3874c0a1",
   "metadata": {
    "hidden": true
   },
   "source": [
    "To use a list as a key, one option is to convert it to a tuple, which can be hashed as\n",
    "long as its elements also can:"
   ]
  },
  {
   "cell_type": "code",
   "execution_count": 35,
   "id": "82177ae6",
   "metadata": {
    "hidden": true
   },
   "outputs": [
    {
     "data": {
      "text/plain": [
       "{(1, 2, 3): 5}"
      ]
     },
     "execution_count": 35,
     "metadata": {},
     "output_type": "execute_result"
    }
   ],
   "source": [
    "d = {}\n",
    "d[tuple([1, 2, 3])] = 5\n",
    "d"
   ]
  },
  {
   "cell_type": "markdown",
   "id": "f5eb2f48",
   "metadata": {
    "heading_collapsed": true
   },
   "source": [
    "# SET"
   ]
  },
  {
   "cell_type": "raw",
   "id": "1b4e6368",
   "metadata": {
    "hidden": true
   },
   "source": [
    "A set is an unordered collection of unique elements. You can think of them like dicts,\n",
    "but keys only, no values. A set can be created in two ways: via the set function or via\n",
    "a set literal with curly braces:"
   ]
  },
  {
   "cell_type": "code",
   "execution_count": 36,
   "id": "022051ef",
   "metadata": {
    "hidden": true
   },
   "outputs": [
    {
     "data": {
      "text/plain": [
       "{1, 2, 3}"
      ]
     },
     "execution_count": 36,
     "metadata": {},
     "output_type": "execute_result"
    }
   ],
   "source": [
    "set([2, 2, 2, 1, 3, 3])"
   ]
  },
  {
   "cell_type": "code",
   "execution_count": 37,
   "id": "004bd047",
   "metadata": {
    "hidden": true
   },
   "outputs": [
    {
     "data": {
      "text/plain": [
       "{1, 2, 3}"
      ]
     },
     "execution_count": 37,
     "metadata": {},
     "output_type": "execute_result"
    }
   ],
   "source": [
    "{2, 2, 2, 1, 3, 3}\n"
   ]
  },
  {
   "cell_type": "raw",
   "id": "1c27b7a4",
   "metadata": {
    "hidden": true
   },
   "source": [
    "Sets support mathematical set operations like union, intersection, \n",
    "difference, and symmetric difference. "
   ]
  },
  {
   "cell_type": "code",
   "execution_count": 42,
   "id": "7e2ad4b9",
   "metadata": {
    "hidden": true
   },
   "outputs": [],
   "source": [
    "#Consider these two example sets:\n",
    "a = {1, 2, 3, 4, 5}\n",
    "b = {3, 4, 5, 6, 7, 8}\n",
    "c = {2, 2, 3, 4, 7, 8, 9}"
   ]
  },
  {
   "cell_type": "raw",
   "id": "84625c04",
   "metadata": {
    "hidden": true
   },
   "source": [
    "The union of these two sets is the set of distinct elements occurring in either set. This\n",
    "can be computed with either the union method or the | binary operator:"
   ]
  },
  {
   "cell_type": "code",
   "execution_count": 39,
   "id": "5e5a15ef",
   "metadata": {
    "hidden": true
   },
   "outputs": [
    {
     "data": {
      "text/plain": [
       "{1, 2, 3, 4, 5, 6, 7, 8}"
      ]
     },
     "execution_count": 39,
     "metadata": {},
     "output_type": "execute_result"
    }
   ],
   "source": [
    "a.union(b)\n",
    "a | b"
   ]
  },
  {
   "cell_type": "raw",
   "id": "c4f9cacc",
   "metadata": {
    "hidden": true
   },
   "source": [
    "The intersection contains the elements occurring in both sets. \n",
    "The & operator or the intersection method can be used:"
   ]
  },
  {
   "cell_type": "code",
   "execution_count": 40,
   "id": "ac45da9e",
   "metadata": {
    "hidden": true
   },
   "outputs": [
    {
     "data": {
      "text/plain": [
       "{3, 4, 5}"
      ]
     },
     "execution_count": 40,
     "metadata": {},
     "output_type": "execute_result"
    }
   ],
   "source": [
    "a.intersection(b)\n",
    "a & b"
   ]
  },
  {
   "cell_type": "code",
   "execution_count": 43,
   "id": "f03fe30e",
   "metadata": {
    "hidden": true
   },
   "outputs": [
    {
     "data": {
      "text/plain": [
       "{2, 3, 4}"
      ]
     },
     "execution_count": 43,
     "metadata": {},
     "output_type": "execute_result"
    }
   ],
   "source": [
    "a.intersection(c)\n",
    "a & c"
   ]
  },
  {
   "cell_type": "raw",
   "id": "85a12508",
   "metadata": {
    "hidden": true
   },
   "source": [
    "a.add(x)                  N/A                       Add element x to the set a\n",
    "\n",
    "a.clear()                 N/A                       Reset the set a to an empty state, discarding all of its elements\n",
    "     \n",
    "a.remove(x)               N/A            Remove element x from the set a\n",
    "\n",
    "a.pop()                   N/A            Remove an arbitrary element from the set a, raising KeyError if the set is empty\n",
    "\n",
    "a.union(b)               a | b           All of the unique elements in a and b\n",
    "\n",
    "a.update(b)              a |= b          Set the contents of a to be the union of the elements in a and b\n",
    "\n",
    "a.intersection(b)        a & b           All of the elements in both a and b\n",
    "\n",
    "a.intersection_update(b)          a &= b          Set the contents of a to be the intersection of the elements in a and b\n",
    "\n",
    "a.difference(b)                   a - b           The elements in a that are not in b\n",
    "\n",
    "a.difference_update(b)            a -= b          Set a to the elements in a that are not in b\n",
    "\n",
    "a.symmetric_difference(b)         a ^ b        All of the elements in either a or b but not both\n",
    "\n",
    "a.symmetric_difference_update(b)  a ^= b       Set a to contain the elements in either a or b but not both\n",
    "\n",
    "a.issubset(b)                     N/A          True if the elements of a are all contained in b\n",
    "\n",
    "a.issuperset(b)                   N/A          True if the elements of b are all contained in a\n",
    "\n",
    "a.isdisjoint(b)                   N/A          True if a and b have no elements in common"
   ]
  },
  {
   "cell_type": "raw",
   "id": "6c590bb5",
   "metadata": {
    "hidden": true
   },
   "source": [
    "All of the logical set operations have in-place counterparts, which enable you to\n",
    "replace the contents of the set on the left side of the operation with the result. For\n",
    "very large sets, this may be more efficient:"
   ]
  },
  {
   "cell_type": "code",
   "execution_count": 44,
   "id": "e3313078",
   "metadata": {
    "hidden": true
   },
   "outputs": [
    {
     "data": {
      "text/plain": [
       "{1, 2, 3, 4, 5, 6, 7, 8}"
      ]
     },
     "execution_count": 44,
     "metadata": {},
     "output_type": "execute_result"
    }
   ],
   "source": [
    "c = a.copy()\n",
    "c |= b\n",
    "c"
   ]
  },
  {
   "cell_type": "code",
   "execution_count": 45,
   "id": "60fafe20",
   "metadata": {
    "hidden": true
   },
   "outputs": [
    {
     "data": {
      "text/plain": [
       "{3, 4, 5}"
      ]
     },
     "execution_count": 45,
     "metadata": {},
     "output_type": "execute_result"
    }
   ],
   "source": [
    "d = a.copy()\n",
    "d &= b\n",
    "d"
   ]
  },
  {
   "cell_type": "markdown",
   "id": "062410a6",
   "metadata": {
    "hidden": true
   },
   "source": [
    "Like dicts, set elements generally must be immutable.\n",
    "<br>**To have list-like elements, you\n",
    "<br>must convert it to a tuple:**"
   ]
  },
  {
   "cell_type": "code",
   "execution_count": 46,
   "id": "e69d4e2a",
   "metadata": {
    "hidden": true
   },
   "outputs": [
    {
     "data": {
      "text/plain": [
       "{(1, 2, 3, 4)}"
      ]
     },
     "execution_count": 46,
     "metadata": {},
     "output_type": "execute_result"
    }
   ],
   "source": [
    "my_data = [1, 2, 3, 4]\n",
    "my_set = {tuple(my_data)}\n",
    "my_set"
   ]
  },
  {
   "cell_type": "raw",
   "id": "c887802f",
   "metadata": {
    "hidden": true
   },
   "source": [
    "You can also check if a set is a subset of (is contained in) or a superset of \n",
    "(contains all elements of) another set:"
   ]
  },
  {
   "cell_type": "code",
   "execution_count": 47,
   "id": "33bb7b20",
   "metadata": {
    "hidden": true
   },
   "outputs": [
    {
     "data": {
      "text/plain": [
       "True"
      ]
     },
     "execution_count": 47,
     "metadata": {},
     "output_type": "execute_result"
    }
   ],
   "source": [
    "a_set = {1, 2, 3, 4, 5}\n",
    "{1, 2, 3}.issubset(a_set)"
   ]
  },
  {
   "cell_type": "code",
   "execution_count": 48,
   "id": "e37e11f3",
   "metadata": {
    "hidden": true
   },
   "outputs": [
    {
     "data": {
      "text/plain": [
       "True"
      ]
     },
     "execution_count": 48,
     "metadata": {},
     "output_type": "execute_result"
    }
   ],
   "source": [
    "a_set.issuperset({1, 2, 3})"
   ]
  },
  {
   "cell_type": "markdown",
   "id": "6ce56a47",
   "metadata": {
    "hidden": true
   },
   "source": [
    "**Sets are equal if and only if their contents are equal:**"
   ]
  },
  {
   "cell_type": "code",
   "execution_count": 49,
   "id": "7f089210",
   "metadata": {
    "hidden": true
   },
   "outputs": [
    {
     "data": {
      "text/plain": [
       "True"
      ]
     },
     "execution_count": 49,
     "metadata": {},
     "output_type": "execute_result"
    }
   ],
   "source": [
    "{1, 2, 3} == {3, 2, 1}"
   ]
  },
  {
   "cell_type": "markdown",
   "id": "28402424",
   "metadata": {
    "heading_collapsed": true
   },
   "source": [
    "# List, Set, and Dict Comprehensions"
   ]
  },
  {
   "cell_type": "raw",
   "id": "44e31671",
   "metadata": {
    "hidden": true
   },
   "source": [
    "They allow you to concisely form a new list by filtering \n",
    "the elements of a collection, transforming the elements \n",
    "passing the filter in one concise expression.\n",
    "\n",
    "[expr for val in collection if condition]"
   ]
  },
  {
   "cell_type": "raw",
   "id": "aea38c08",
   "metadata": {
    "hidden": true
   },
   "source": [
    "This is equivalent to the following for loop:\n",
    "    \n",
    "result = []\n",
    "for val in collection:\n",
    "    if condition:\n",
    "        result.append(expr)"
   ]
  },
  {
   "cell_type": "code",
   "execution_count": 1,
   "id": "da62f0a2",
   "metadata": {
    "hidden": true
   },
   "outputs": [
    {
     "data": {
      "text/plain": [
       "['BAT', 'CAR', 'DOVE', 'PYTHON']"
      ]
     },
     "execution_count": 1,
     "metadata": {},
     "output_type": "execute_result"
    }
   ],
   "source": [
    "strings = ['a', 'as', 'bat', 'car', 'dove', 'python']\n",
    "[x.upper() for x in strings if len(x) > 2]"
   ]
  },
  {
   "cell_type": "markdown",
   "id": "aa4a5712",
   "metadata": {
    "hidden": true
   },
   "source": [
    "**dict_comp = {key-expr : value-expr for value in collection\n",
    "if condition}**"
   ]
  },
  {
   "cell_type": "code",
   "execution_count": 2,
   "id": "deb974c2",
   "metadata": {
    "hidden": true
   },
   "outputs": [
    {
     "data": {
      "text/plain": [
       "{1, 2, 3, 4, 6}"
      ]
     },
     "execution_count": 2,
     "metadata": {},
     "output_type": "execute_result"
    }
   ],
   "source": [
    "unique_lengths = {len(x) for x in strings}\n",
    "unique_lengths"
   ]
  },
  {
   "cell_type": "code",
   "execution_count": 3,
   "id": "3fc9e899",
   "metadata": {
    "hidden": true
   },
   "outputs": [
    {
     "data": {
      "text/plain": [
       "{1, 2, 3, 4, 6}"
      ]
     },
     "execution_count": 3,
     "metadata": {},
     "output_type": "execute_result"
    }
   ],
   "source": [
    " set(map(len, strings)) #map function"
   ]
  },
  {
   "cell_type": "code",
   "execution_count": 4,
   "id": "e5a3fc6e",
   "metadata": {
    "hidden": true
   },
   "outputs": [
    {
     "data": {
      "text/plain": [
       "{'a': 0, 'as': 1, 'bat': 2, 'car': 3, 'dove': 4, 'python': 5}"
      ]
     },
     "execution_count": 4,
     "metadata": {},
     "output_type": "execute_result"
    }
   ],
   "source": [
    "#create a lookup map of strings to their locations in the list: \n",
    "\n",
    "loc_mapping = {val : index for index, val in enumerate(strings)}\n",
    "loc_mapping"
   ]
  },
  {
   "cell_type": "markdown",
   "id": "39acea98",
   "metadata": {
    "hidden": true
   },
   "source": [
    "**Nested list comprehensions**"
   ]
  },
  {
   "cell_type": "code",
   "execution_count": 5,
   "id": "b3a96dce",
   "metadata": {
    "hidden": true
   },
   "outputs": [],
   "source": [
    "#lists containing some English and Spanish names:\n",
    "all_data = [['John', 'Emily', 'Michael', 'Mary', 'Steven'],\n",
    "            ['Maria', 'Juan', 'Javier', 'Natalia', 'Pilar']]"
   ]
  },
  {
   "cell_type": "raw",
   "id": "8fa1702e",
   "metadata": {
    "hidden": true
   },
   "source": [
    "Now, suppose we wanted to get a single list containing all names\n",
    "with two or more e’s in them. \n",
    "We could certainly do this with a simple for loop:"
   ]
  },
  {
   "cell_type": "raw",
   "id": "1abe3b9b",
   "metadata": {
    "hidden": true
   },
   "source": [
    "names_of_interest = []\n",
    "for names in all_data:\n",
    "    enough_es = [name for name in names if name.count('e') >= 2]\n",
    "    names_of_interest.extend(enough_es)"
   ]
  },
  {
   "cell_type": "code",
   "execution_count": 7,
   "id": "8d266dbd",
   "metadata": {
    "hidden": true
   },
   "outputs": [
    {
     "data": {
      "text/plain": [
       "['Steven']"
      ]
     },
     "execution_count": 7,
     "metadata": {},
     "output_type": "execute_result"
    }
   ],
   "source": [
    "#You can actually wrap this whole operation up in a single nested list comprehension,\n",
    "#which will look like:\n",
    "    \n",
    "result = [name for names in all_data for name in names\n",
    "          if name.count('e') >= 2]\n",
    "result"
   ]
  },
  {
   "cell_type": "code",
   "execution_count": 8,
   "id": "e9163bdf",
   "metadata": {
    "hidden": true
   },
   "outputs": [
    {
     "data": {
      "text/plain": [
       "[1, 2, 3, 4, 5, 6, 7, 8, 9]"
      ]
     },
     "execution_count": 8,
     "metadata": {},
     "output_type": "execute_result"
    }
   ],
   "source": [
    "some_tuples = [(1, 2, 3), (4, 5, 6), (7, 8, 9)]\n",
    "flattened = [x for tup in some_tuples for x in tup]\n",
    "flattened"
   ]
  },
  {
   "cell_type": "code",
   "execution_count": 9,
   "id": "53d8c5cd",
   "metadata": {
    "code_folding": [],
    "hidden": true
   },
   "outputs": [],
   "source": [
    "flattened = []\n",
    "for tup in some_tuples:\n",
    "    for x in tup:\n",
    "        flattened.append(x)"
   ]
  },
  {
   "cell_type": "code",
   "execution_count": 10,
   "id": "241d6c95",
   "metadata": {
    "hidden": true
   },
   "outputs": [
    {
     "data": {
      "text/plain": [
       "[[1, 2, 3], [4, 5, 6], [7, 8, 9]]"
      ]
     },
     "execution_count": 10,
     "metadata": {},
     "output_type": "execute_result"
    }
   ],
   "source": [
    "#It’s important to distinguish the syntax just shown\n",
    "\n",
    "#from a list comprehension inside a list comprehension, \n",
    "#which is also perfectly valid:\n",
    "\n",
    "[[x for x in tup] for tup in some_tuples]"
   ]
  },
  {
   "cell_type": "markdown",
   "id": "44ee706b",
   "metadata": {
    "heading_collapsed": true
   },
   "source": [
    "# FUNCTIONS"
   ]
  },
  {
   "cell_type": "raw",
   "id": "4d25fb75",
   "metadata": {
    "hidden": true
   },
   "source": [
    "Functions can also help make your code more readable \n",
    "by giving a name to a group of Python statements.\n",
    "\n",
    "Functions are declared with the def keyword and \n",
    "returned from with the return keyword:"
   ]
  },
  {
   "cell_type": "code",
   "execution_count": null,
   "id": "db066173",
   "metadata": {
    "hidden": true
   },
   "outputs": [],
   "source": [
    "def my_function(x, y, z=1.5):\n",
    "    if z > 1:\n",
    "        return z * (x + y)\n",
    "    else:\n",
    "        return z / (x + y)"
   ]
  },
  {
   "cell_type": "code",
   "execution_count": 13,
   "id": "3380f340",
   "metadata": {
    "hidden": true
   },
   "outputs": [
    {
     "data": {
      "text/plain": [
       "0.06363636363636363"
      ]
     },
     "execution_count": 13,
     "metadata": {},
     "output_type": "execute_result"
    }
   ],
   "source": [
    "my_function(5, 6, z=0.7)\n"
   ]
  },
  {
   "cell_type": "code",
   "execution_count": 14,
   "id": "c9b0889e",
   "metadata": {
    "hidden": true
   },
   "outputs": [
    {
     "data": {
      "text/plain": [
       "35.49"
      ]
     },
     "execution_count": 14,
     "metadata": {},
     "output_type": "execute_result"
    }
   ],
   "source": [
    "my_function(3.14, 7, 3.5)"
   ]
  },
  {
   "cell_type": "code",
   "execution_count": 15,
   "id": "1dbef8f0",
   "metadata": {
    "hidden": true
   },
   "outputs": [
    {
     "data": {
      "text/plain": [
       "45.0"
      ]
     },
     "execution_count": 15,
     "metadata": {},
     "output_type": "execute_result"
    }
   ],
   "source": [
    "my_function(10, 20)"
   ]
  },
  {
   "cell_type": "raw",
   "id": "ce9161a8",
   "metadata": {
    "hidden": true
   },
   "source": [
    "If Python reaches the end\n",
    "of a function without encountering a return statement, \n",
    "None is returned automatically."
   ]
  },
  {
   "cell_type": "raw",
   "id": "7c657c5c",
   "metadata": {
    "hidden": true
   },
   "source": [
    "The main restriction on function arguments is that the keyword \n",
    "arguments must follow the positional arguments (if any). \n",
    "\n",
    "You can specify keyword arguments in any\n",
    "order."
   ]
  },
  {
   "cell_type": "raw",
   "id": "a1966060",
   "metadata": {
    "hidden": true
   },
   "source": [
    "It is possible to use keywords for passing positional arguments as\n",
    "well. In the preceding example, we could also have written:"
   ]
  },
  {
   "cell_type": "code",
   "execution_count": 16,
   "id": "9487e113",
   "metadata": {
    "hidden": true
   },
   "outputs": [
    {
     "data": {
      "text/plain": [
       "77"
      ]
     },
     "execution_count": 16,
     "metadata": {},
     "output_type": "execute_result"
    }
   ],
   "source": [
    "my_function(x=5, y=6, z=7)"
   ]
  },
  {
   "cell_type": "code",
   "execution_count": 17,
   "id": "df4618ab",
   "metadata": {
    "hidden": true
   },
   "outputs": [
    {
     "data": {
      "text/plain": [
       "77"
      ]
     },
     "execution_count": 17,
     "metadata": {},
     "output_type": "execute_result"
    }
   ],
   "source": [
    "my_function(y=6, x=5, z=7)"
   ]
  },
  {
   "cell_type": "markdown",
   "id": "0ed8d7d8",
   "metadata": {
    "hidden": true
   },
   "source": [
    "This frees you from having to remember which order the<br> \n",
    "function arguments were specified in and only what their names are."
   ]
  },
  {
   "cell_type": "markdown",
   "id": "0d74e08a",
   "metadata": {
    "hidden": true
   },
   "source": [
    "**Functions can access variables in two different scopes: global and local.**"
   ]
  },
  {
   "cell_type": "raw",
   "id": "45a2e921",
   "metadata": {
    "hidden": true
   },
   "source": [
    "Any variables that are assigned within a function by \n",
    "default are assigned to the local namespace. \n",
    "The local namespace is created when the function is \n",
    "called and immediately populated by the function’s arguments. "
   ]
  },
  {
   "cell_type": "raw",
   "id": "742a6e25",
   "metadata": {
    "code_folding": [],
    "hidden": true
   },
   "source": [
    "def func():\n",
    "    a = []\n",
    "for i in range(5):\n",
    "    a.append(i)"
   ]
  },
  {
   "cell_type": "raw",
   "id": "2b55e496",
   "metadata": {
    "hidden": true
   },
   "source": [
    "When func() is called, the empty list a is created, five elements are appended, and\n",
    "then a is destroyed when the function exits. Suppose instead we had declared a as\n",
    "follows:"
   ]
  },
  {
   "cell_type": "raw",
   "id": "eaa2d0f4",
   "metadata": {
    "hidden": true
   },
   "source": [
    "a = []\n",
    "def func():\n",
    "    for i in range(5):\n",
    "        a.append(i)"
   ]
  },
  {
   "cell_type": "raw",
   "id": "50f9e711",
   "metadata": {
    "hidden": true
   },
   "source": [
    "Assigning variables outside of the function’s scope is possible, but those variables\n",
    "must be declared as global via the global keyword:\n",
    "a = None\n",
    "def bind_a_variable():\n",
    ".....: global a\n",
    ".....: a = []\n",
    ".....: bind_a_variable()\n",
    ".....:\n",
    "print(a)"
   ]
  },
  {
   "cell_type": "raw",
   "id": "91ee8d21",
   "metadata": {
    "hidden": true
   },
   "source": [
    "I generally discourage use of the global keyword. Typically global\n",
    "variables are used to store some kind of state in a system. \n",
    "\n",
    "If you find yourself using a lot of them, it may \n",
    "indicate a need for objectoriented programming (using classes)"
   ]
  },
  {
   "cell_type": "markdown",
   "id": "20c2abee",
   "metadata": {
    "heading_collapsed": true
   },
   "source": [
    "# Returning Multiple Values"
   ]
  },
  {
   "cell_type": "code",
   "execution_count": 22,
   "id": "04bcc835",
   "metadata": {
    "code_folding": [],
    "hidden": true
   },
   "outputs": [],
   "source": [
    "def f(): \n",
    "    a = 5\n",
    "    b = 6\n",
    "    c = 7\n",
    "    return a, b, c\n",
    "a, b, c = f()"
   ]
  },
  {
   "cell_type": "markdown",
   "id": "887e91cd",
   "metadata": {
    "hidden": true
   },
   "source": [
    "**Functions Are Objects**"
   ]
  },
  {
   "cell_type": "raw",
   "id": "34d51d48",
   "metadata": {
    "hidden": true
   },
   "source": [
    "Suppose we were doing some data cleaning and\n",
    "needed to apply a bunch of transformations to \n",
    "the following list of strings:"
   ]
  },
  {
   "cell_type": "code",
   "execution_count": 4,
   "id": "802a8112",
   "metadata": {
    "hidden": true
   },
   "outputs": [],
   "source": [
    "states = [' Alabama ', 'Georgia!', 'Georgia', 'georgia', 'FlOrIda',\n",
    "                    'south carolina##', 'West virginia?']\n",
    "    "
   ]
  },
  {
   "cell_type": "markdown",
   "id": "fd197c80",
   "metadata": {
    "hidden": true
   },
   "source": [
    "Anyone who has ever worked with user-submitted survey data has seen messy results<br>\n",
    "like these. Lots of things need to happen to make this list of strings uniform and<br>\n",
    "ready for analysis: \n",
    "<br>1.stripping whitespace, \n",
    "<br>2.removing punctuation symbols, and \n",
    "<br>3.standardizing on proper capitalization."
   ]
  },
  {
   "cell_type": "markdown",
   "id": "3e7e7f79",
   "metadata": {
    "hidden": true
   },
   "source": [
    "One way to do this is to use built-in string<br> \n",
    "methods along with the **re standard library**<br> \n",
    "module for regular expressions:"
   ]
  },
  {
   "cell_type": "code",
   "execution_count": 1,
   "id": "6b7871e4",
   "metadata": {
    "hidden": true
   },
   "outputs": [],
   "source": [
    "import re\n",
    "def clean_strings(strings):\n",
    "    result = []\n",
    "    for value in strings:\n",
    "        value = value.strip()\n",
    "        value = re.sub('[!#?]', '', value)\n",
    "        value = value.title()\n",
    "        result.append(value)\n",
    "    return result"
   ]
  },
  {
   "cell_type": "code",
   "execution_count": 5,
   "id": "ed91a75c",
   "metadata": {
    "hidden": true
   },
   "outputs": [
    {
     "data": {
      "text/plain": [
       "['Alabama',\n",
       " 'Georgia',\n",
       " 'Georgia',\n",
       " 'Georgia',\n",
       " 'Florida',\n",
       " 'South Carolina',\n",
       " 'West Virginia']"
      ]
     },
     "execution_count": 5,
     "metadata": {},
     "output_type": "execute_result"
    }
   ],
   "source": [
    "clean_strings(states)"
   ]
  },
  {
   "cell_type": "code",
   "execution_count": 6,
   "id": "9820244b",
   "metadata": {
    "hidden": true
   },
   "outputs": [
    {
     "name": "stdout",
     "output_type": "stream",
     "text": [
      "['Alabama', 'Georgia', 'Georgia', 'Georgia', 'Florida', 'South Carolina', 'West Virginia']\n"
     ]
    }
   ],
   "source": [
    "print(clean_strings(states))"
   ]
  },
  {
   "cell_type": "raw",
   "id": "3909f028",
   "metadata": {
    "hidden": true
   },
   "source": [
    "An alternative approach that you may find useful is to \n",
    "make a list of the operations you want \n",
    "to apply to a particular set of strings:"
   ]
  },
  {
   "cell_type": "code",
   "execution_count": 10,
   "id": "d30a672b",
   "metadata": {
    "hidden": true
   },
   "outputs": [],
   "source": [
    "def remove_punctuation(value):\n",
    "    return re.sub('[!#?]', '', value)\n",
    "\n",
    "clean_ops = [str.strip, remove_punctuation, str.title]\n",
    "\n",
    "def clean_strings(strings, ops):\n",
    "    result = []\n",
    "    for value in strings:\n",
    "        for function in ops:\n",
    "            value = function(value)\n",
    "        result.append(value)\n",
    "    return result"
   ]
  },
  {
   "cell_type": "code",
   "execution_count": 11,
   "id": "cf901050",
   "metadata": {
    "hidden": true
   },
   "outputs": [
    {
     "data": {
      "text/plain": [
       "['Alabama',\n",
       " 'Georgia',\n",
       " 'Georgia',\n",
       " 'Georgia',\n",
       " 'Florida',\n",
       " 'South Carolina',\n",
       " 'West Virginia']"
      ]
     },
     "execution_count": 11,
     "metadata": {},
     "output_type": "execute_result"
    }
   ],
   "source": [
    "clean_strings(states, clean_ops)"
   ]
  },
  {
   "cell_type": "raw",
   "id": "0c757f08",
   "metadata": {
    "hidden": true
   },
   "source": [
    "A more functional pattern like this enables you to easily \n",
    "modify how the strings are transformed at a very high level. \n",
    "The clean_strings function is also now more reusable and generic."
   ]
  },
  {
   "cell_type": "code",
   "execution_count": 12,
   "id": "06a435f9",
   "metadata": {
    "hidden": true
   },
   "outputs": [
    {
     "name": "stdout",
     "output_type": "stream",
     "text": [
      " Alabama \n",
      "Georgia\n",
      "Georgia\n",
      "georgia\n",
      "FlOrIda\n",
      "south carolina\n",
      "West virginia\n"
     ]
    }
   ],
   "source": [
    "#You can use functions as arguments to other functions \n",
    "#like the built-in map function, which applies a function to a \n",
    "#sequence of some kind:\n",
    "\n",
    "for x in map(remove_punctuation, states):\n",
    "    print(x)"
   ]
  },
  {
   "cell_type": "markdown",
   "id": "1b8ba4a0",
   "metadata": {},
   "source": [
    "# Anonymous (Lambda) Functions"
   ]
  },
  {
   "cell_type": "raw",
   "id": "6131ea46",
   "metadata": {},
   "source": [
    "Python has support for so-called anonymous or lambda functions, \n",
    "which are a way of writing functions consisting of a single statement, \n",
    "the result of which is the return value. \n",
    "\n",
    "They are defined with the lambda keyword, which has no meaning other \n",
    "than “we are declaring an anonymous function”:"
   ]
  },
  {
   "cell_type": "raw",
   "id": "0939d9eb",
   "metadata": {},
   "source": [
    "def short_function(x):\n",
    "    return x * 2\n",
    "\n",
    "equiv_anon = lambda x: x * 2"
   ]
  },
  {
   "cell_type": "raw",
   "id": "f15007f4",
   "metadata": {},
   "source": [
    "It’s often less typing (and clearer) to pass a lambda \n",
    "function as opposed to writing a full-out function declaration \n",
    "or even assigning the lambda function to a local variable. "
   ]
  },
  {
   "cell_type": "raw",
   "id": "06f3f251",
   "metadata": {},
   "source": [
    "As another example, suppose you wanted to sort a collection of \n",
    "strings by the number of distinct letters in each string:"
   ]
  },
  {
   "cell_type": "code",
   "execution_count": 13,
   "id": "2e2d50aa",
   "metadata": {},
   "outputs": [],
   "source": [
    "strings = ['foo', 'card', 'bar', 'aaaa', 'abab']\n",
    "\n",
    "#Here we could pass a lambda function to the list’s sort method:\n",
    "strings.sort(key=lambda x: len(set(list(x))))"
   ]
  },
  {
   "cell_type": "raw",
   "id": "db90715b",
   "metadata": {},
   "source": [
    "One reason lambda functions are called anonymous functions is\n",
    "that , unlike functions declared with the def keyword, the function\n",
    "object itself is never given an explicit __name__ attribute."
   ]
  },
  {
   "cell_type": "markdown",
   "id": "9d5e4ee2",
   "metadata": {},
   "source": [
    "# Currying: Partial Argument Application"
   ]
  },
  {
   "cell_type": "raw",
   "id": "9172ef79",
   "metadata": {},
   "source": [
    "Currying means deriving new functions from existing ones by partial argument applica‐\n",
    "tion. For example, suppose we had a trivial function that adds two numbers together:"
   ]
  },
  {
   "cell_type": "code",
   "execution_count": 14,
   "id": "ba4f1082",
   "metadata": {},
   "outputs": [],
   "source": [
    "def add_numbers(x, y):\n",
    "    return x + y"
   ]
  },
  {
   "cell_type": "raw",
   "id": "e3c6c0ad",
   "metadata": {},
   "source": [
    "Using this function, we could derive a new function of one variable,\n",
    "add_five, that adds 5 to its argument:"
   ]
  },
  {
   "cell_type": "code",
   "execution_count": 15,
   "id": "10f0857e",
   "metadata": {},
   "outputs": [],
   "source": [
    "add_five = lambda y: add_numbers(5, y)\n",
    "# The second argument to add_numbers is said to be curried."
   ]
  },
  {
   "cell_type": "raw",
   "id": "d301b953",
   "metadata": {},
   "source": [
    "All we’ve really done is define a new function \n",
    "that calls an existing function."
   ]
  },
  {
   "cell_type": "markdown",
   "id": "58b5e9a0",
   "metadata": {},
   "source": [
    "# iterator protocol"
   ]
  },
  {
   "cell_type": "markdown",
   "id": "63839564",
   "metadata": {},
   "source": [
    "**iterator protocol, a generic way to make objects iterable.** "
   ]
  },
  {
   "cell_type": "code",
   "execution_count": 16,
   "id": "9a0c7b7b",
   "metadata": {},
   "outputs": [
    {
     "name": "stdout",
     "output_type": "stream",
     "text": [
      "a\n",
      "b\n",
      "c\n"
     ]
    }
   ],
   "source": [
    "# iterating over a dict yields the dict keys:\n",
    "some_dict = {'a': 1, 'b': 2, 'c': 3}\n",
    "for key in some_dict:\n",
    "    print(key)"
   ]
  },
  {
   "cell_type": "code",
   "execution_count": 19,
   "id": "66a72a5c",
   "metadata": {
    "run_control": {
     "marked": true
    }
   },
   "outputs": [
    {
     "data": {
      "text/plain": [
       "<dict_keyiterator at 0x1773a011278>"
      ]
     },
     "execution_count": 19,
     "metadata": {},
     "output_type": "execute_result"
    }
   ],
   "source": [
    "#When you write for key in some_dict, the Python interpreter first \n",
    "#attempts to create an iterator out of some_dict:\n",
    "dict_iterator = iter(some_dict)\n",
    "dict_iterator"
   ]
  },
  {
   "cell_type": "raw",
   "id": "f972d57c",
   "metadata": {},
   "source": [
    "An iterator is any object that will yield objects to the \n",
    "Python interpreter when used in\n",
    "a context like a for loop. Most methods \n",
    "expecting a list or list-like object will also\n",
    "accept any iterable object."
   ]
  },
  {
   "cell_type": "code",
   "execution_count": 20,
   "id": "e50a2736",
   "metadata": {},
   "outputs": [
    {
     "data": {
      "text/plain": [
       "['a', 'b', 'c']"
      ]
     },
     "execution_count": 20,
     "metadata": {},
     "output_type": "execute_result"
    }
   ],
   "source": [
    "list(dict_iterator)"
   ]
  },
  {
   "cell_type": "markdown",
   "id": "b32e0962",
   "metadata": {},
   "source": [
    "# Generator"
   ]
  },
  {
   "cell_type": "raw",
   "id": "1f3b8e76",
   "metadata": {},
   "source": [
    "A generator is a concise way to construct a new iterable object. "
   ]
  },
  {
   "cell_type": "raw",
   "id": "0d78c94a",
   "metadata": {},
   "source": [
    "Whereas normal functions execute and return a single result \n",
    "at a time, generators return a sequence of\n",
    "multiple results lazily, pausing after each one until \n",
    "the next one is requested. "
   ]
  },
  {
   "cell_type": "code",
   "execution_count": 31,
   "id": "c659168a",
   "metadata": {},
   "outputs": [],
   "source": [
    "#To create a generator, use the yield keyword instead of return in a function:\n",
    "\n",
    "def squares(n=10):\n",
    "    print('Generating squares from 1 to {0}'.format(n ** 2))\n",
    "    for i in range(1, n + 1):\n",
    "        yield i ** 2"
   ]
  },
  {
   "cell_type": "code",
   "execution_count": 32,
   "id": "667c4866",
   "metadata": {},
   "outputs": [
    {
     "data": {
      "text/plain": [
       "<generator object squares at 0x000001773A016B48>"
      ]
     },
     "execution_count": 32,
     "metadata": {},
     "output_type": "execute_result"
    }
   ],
   "source": [
    "#When you actually call the generator, no code is immediately executed:\n",
    "gen = squares()\n",
    "gen"
   ]
  },
  {
   "cell_type": "code",
   "execution_count": 40,
   "id": "3efde69b",
   "metadata": {
    "code_folding": []
   },
   "outputs": [
    {
     "ename": "SyntaxError",
     "evalue": "invalid syntax (<ipython-input-40-19dcf43ebb74>, line 6)",
     "output_type": "error",
     "traceback": [
      "\u001b[1;36m  File \u001b[1;32m\"<ipython-input-40-19dcf43ebb74>\"\u001b[1;36m, line \u001b[1;32m6\u001b[0m\n\u001b[1;33m    Generating squares from 1 to 100\u001b[0m\n\u001b[1;37m                     ^\u001b[0m\n\u001b[1;31mSyntaxError\u001b[0m\u001b[1;31m:\u001b[0m invalid syntax\n"
     ]
    }
   ],
   "source": [
    "#It is not until you request elements from the generator \n",
    "#that it begins executing its code:\n",
    "\n",
    "for n in gen:\n",
    "    print(n, end=' ')\n",
    "Generating squares from 1 to 100"
   ]
  },
  {
   "cell_type": "raw",
   "id": "29e10818",
   "metadata": {},
   "source": [
    "Generator expresssions"
   ]
  },
  {
   "cell_type": "code",
   "execution_count": 41,
   "id": "cdb7de95",
   "metadata": {},
   "outputs": [
    {
     "data": {
      "text/plain": [
       "<generator object <genexpr> at 0x000001773A020468>"
      ]
     },
     "execution_count": 41,
     "metadata": {},
     "output_type": "execute_result"
    }
   ],
   "source": [
    "gen = (x ** 2 for x in range(100))\n",
    "gen"
   ]
  },
  {
   "cell_type": "code",
   "execution_count": 43,
   "id": "33e9670c",
   "metadata": {},
   "outputs": [],
   "source": [
    "#This is completely equivalent to the following more verbose generator:\n",
    "def _make_gen():\n",
    "    for x in range(100):\n",
    "        yield x ** 2\n",
    "gen = _make_gen()"
   ]
  },
  {
   "cell_type": "code",
   "execution_count": null,
   "id": "7c3175dc",
   "metadata": {},
   "outputs": [],
   "source": [
    "Generator expressions can be used instead of list comprehensions as function argu‐\n",
    "ments in many cases:\n",
    "In [191]: sum(x ** 2 for x in range(100))\n",
    "Out[191]: 328350\n",
    "In [192]: dict((i, i **2) for i in range(5))\n",
    "Out[192]: {0: 0, 1: 1, 2: 4, 3: 9, 4: 16}"
   ]
  }
 ],
 "metadata": {
  "kernelspec": {
   "display_name": "Python 3",
   "language": "python",
   "name": "python3"
  },
  "language_info": {
   "codemirror_mode": {
    "name": "ipython",
    "version": 3
   },
   "file_extension": ".py",
   "mimetype": "text/x-python",
   "name": "python",
   "nbconvert_exporter": "python",
   "pygments_lexer": "ipython3",
   "version": "3.6.13"
  },
  "toc": {
   "base_numbering": 1,
   "nav_menu": {},
   "number_sections": true,
   "sideBar": true,
   "skip_h1_title": false,
   "title_cell": "Table of Contents",
   "title_sidebar": "Contents",
   "toc_cell": false,
   "toc_position": {},
   "toc_section_display": true,
   "toc_window_display": false
  },
  "varInspector": {
   "cols": {
    "lenName": 16,
    "lenType": 16,
    "lenVar": 40
   },
   "kernels_config": {
    "python": {
     "delete_cmd_postfix": "",
     "delete_cmd_prefix": "del ",
     "library": "var_list.py",
     "varRefreshCmd": "print(var_dic_list())"
    },
    "r": {
     "delete_cmd_postfix": ") ",
     "delete_cmd_prefix": "rm(",
     "library": "var_list.r",
     "varRefreshCmd": "cat(var_dic_list()) "
    }
   },
   "types_to_exclude": [
    "module",
    "function",
    "builtin_function_or_method",
    "instance",
    "_Feature"
   ],
   "window_display": false
  }
 },
 "nbformat": 4,
 "nbformat_minor": 5
}
